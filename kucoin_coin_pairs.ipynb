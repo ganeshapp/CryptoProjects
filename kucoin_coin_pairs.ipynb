{
 "cells": [
  {
   "cell_type": "markdown",
   "metadata": {},
   "source": [
    "# List of Coin Pairs in Kucoin"
   ]
  },
  {
   "cell_type": "code",
   "execution_count": 26,
   "metadata": {},
   "outputs": [],
   "source": [
    "import sys\n",
    "import ccxt"
   ]
  },
  {
   "cell_type": "code",
   "execution_count": 27,
   "metadata": {},
   "outputs": [],
   "source": [
    "blacklist = ['BNB','AUD','BRZ','CAD','CHF','EUR','GBP','HKD','IDRT','JPY','NGN','RUB','SGD','TRY','UAH','USD','ZAR','BUSD','USDP','CUSDT','DAI','PAXG','SUSD','TUSD','USDC','USDP','USDT','VAI','ACM','AFA','ALA','ALL','APL','ASR','ATM','BAR','CAI','CITY','FOR','GAL','GOZ','IBFK','JUV','LEG','LOCK-1','NAVI','NMR','NOV','OG','PFL','PSG','ROUSH','STV','TH','TRA','UCH','UFC','YBO']\n",
    "baseCoin = 'BTC'\n",
    "# Gets the available coins on the exchange\n",
    "def getList(dict):\n",
    "    list = []\n",
    "    for key in dict.keys():\n",
    "        list.append(key)\n",
    "          \n",
    "    return list\n",
    "\n",
    "def getmarkets(exchange):\n",
    "    markets = exchange.load_markets()\n",
    "    items = {}\n",
    "    for item in markets:\n",
    "        if item.split(\"/\")[1] == baseCoin:\n",
    "            if 'UP/'+baseCoin not in item and 'DOWN/'+baseCoin not in item and 'BULL/'+baseCoin not in item and 'BEAR/'+baseCoin not in item and item.split(\"/\")[0] not in blacklist:\n",
    "                tick = exchange.fetchTicker (item)\n",
    "                if tick['quoteVolume']>=0:\n",
    "                    items[item]=tick['quoteVolume']\n",
    "    \n",
    "    marklist = sorted(items.items(), key=lambda x:x[1])\n",
    "    sortdict = dict(marklist)\n",
    "    \n",
    "    return getList(sortdict)\n",
    "\n",
    "# creates a copy-pasteable list\n",
    "def createstring(inputlist):\n",
    "    string = \"\"\n",
    "    for item in inputlist:\n",
    "        if item is not inputlist[-1]:\n",
    "            string += \"\\\"\" + item + \"\\\", \\n\"\n",
    "        if item is inputlist[-1]:\n",
    "            string += \"\\\"\" + item + \"\\\"\\n\"\n",
    "    return string\n",
    "\n",
    "# prints the list to a file\n",
    "def printtofile(unique, exchange):\n",
    "    original_stdout = sys.stdout\n",
    "    filename = \"\" + exchange + \".txt\"\n",
    "    with open(filename, 'w') as f:\n",
    "        sys.stdout = f\n",
    "        print(unique)\n",
    "        sys.stdout = original_stdout"
   ]
  },
  {
   "cell_type": "code",
   "execution_count": 28,
   "metadata": {},
   "outputs": [
    {
     "name": "stdout",
     "output_type": "stream",
     "text": [
      "['WXT/BTC', 'PERP/BTC', 'QUICK/BTC', 'HEGIC/BTC', 'WEST/BTC', 'SKU/BTC', 'BNS/BTC', 'WNXM/BTC', 'ORBS/BTC', 'ACT/BTC', 'SUTER/BTC', 'PROM/BTC', 'YFDAI/BTC', 'ALPHA/BTC', 'FORESTPLUS/BTC', 'BAL/BTC', 'KAT/BTC', 'BADGER/BTC', 'LIT/BTC', 'PHNX/BTC', 'TRU/BTC', 'ENQ/BTC', 'GRIN/BTC', 'BURGER/BTC', 'TKY/BTC', 'MVP/BTC', 'BZRX/BTC', 'GMB/BTC', 'CSP/BTC', 'STRK/BTC', 'VID/BTC', 'CAS/BTC', 'BAKE/BTC', 'XVS/BTC', 'PNT/BTC', 'EFX/BTC', 'KEEP/BTC', 'RLC/BTC', 'GO/BTC', 'CREAM/BTC', 'BAND/BTC', 'TKO/BTC', 'EQX/BTC', 'MSWAP/BTC', 'SHFT/BTC', 'CBC/BTC', 'MKR/BTC', 'EPS/BTC', 'PUNDIX/BTC', 'PCX/BTC', 'DGTX/BTC', 'VSYS/BTC', 'HPB/BTC', 'MWAT/BTC', 'MAHA/BTC', 'TONE/BTC', 'ETHO/BTC', 'DAPPT/BTC', 'SHR/BTC', 'DORA/BTC', 'BAX/BTC', 'MHC/BTC', 'ANT/BTC', 'DACC/BTC', 'LOKI/BTC', 'GOM2/BTC', 'CUDOS/BTC', 'SRK/BTC', 'EDG/BTC', 'VEED/BTC', 'LAYER/BTC', 'SNX/BTC', 'WTC/BTC', 'TOMO/BTC', 'MTL/BTC', 'BOLT/BTC', 'ONT/BTC', 'TWT/BTC', 'TRB/BTC', 'FRONT/BTC', 'TRTL/BTC', 'REP/BTC', 'MFT/BTC', 'DOCK/BTC', 'CPC/BTC', 'LYM/BTC', 'MAKI/BTC', 'REEF/BTC', 'SNTVT/BTC', 'CARR/BTC', 'AOA/BTC', 'PUSH/BTC', 'ADB/BTC', 'SWINGBY/BTC', 'NIM/BTC', '2CRZ/BTC', 'AXPR/BTC', 'CFG/BTC', 'LTX/BTC', 'AKRO/BTC', 'FXS/BTC', 'WIN/BTC', 'XED/BTC', 'CXO/BTC', 'WAVES/BTC', 'OM/BTC', 'CHSB/BTC', 'TRADE/BTC', 'DCR/BTC', 'GLQ/BTC', 'MODEFI/BTC', 'NKN/BTC', 'CS/BTC', 'LOOM/BTC', 'TIME/BTC', 'LTO/BTC', 'NORD/BTC', 'XCUR/BTC', 'RBTC/BTC', 'ELA/BTC', 'GAS/BTC', 'ETC/BTC', 'WRX/BTC', 'ARRR/BTC', 'TLOS/BTC', 'DIA/BTC', 'NULS/BTC', 'MLK/BTC', 'UNO/BTC', 'NRG/BTC', 'AVA/BTC', 'MAP/BTC', 'SFP/BTC', 'VIDT/BTC', 'XEM/BTC', 'BTT/BTC', 'NEBL/BTC', 'CELO/BTC', 'AERGO/BTC', 'PDEX/BTC', 'DEXE/BTC', 'MLN/BTC', 'NWC/BTC', 'DATA/BTC', 'OMG/BTC', 'EQZ/BTC', 'BSV/BTC', 'LPOOL/BTC', 'AMPL/BTC', 'IOST/BTC', 'AUDIO/BTC', 'SXP/BTC', 'HYVE/BTC', 'FKX/BTC', 'ETN/BTC', 'ZIL/BTC', 'HBAR/BTC', 'NANO/BTC', 'MITX/BTC', 'BUY/BTC', 'COV/BTC', 'KEY/BTC', 'NOIA/BTC', 'DSLA/BTC', 'KMD/BTC', 'ATA/BTC', 'BCD/BTC', 'GLM/BTC', 'MAN/BTC', 'BEPRO/BTC', 'ROOBEE/BTC', 'BNT/BTC', 'GHST/BTC', 'DGB/BTC', 'GTC/BTC', 'ERN/BTC', 'OGN/BTC', 'QKC/BTC', 'LSK/BTC', 'KSM/BTC', 'FX/BTC', 'DAG/BTC', 'PIVX/BTC', 'OLT/BTC', 'AAVE/BTC', 'POLS/BTC', 'OPCT/BTC', 'JAR/BTC', 'OXT/BTC', 'PRE/BTC', 'KNC/BTC', 'TVK/BTC', 'SOLVE/BTC', 'SHA/BTC', 'DERO/BTC', 'CVC/BTC', 'SUPER/BTC', 'PPT/BTC', 'WAN/BTC', 'DRGN/BTC', 'VLX/BTC', 'NEO/BTC', 'DATX/BTC', 'KLV/BTC', 'GOVI/BTC', 'POLK/BTC', 'ZCX/BTC', 'SNT/BTC', 'TOWER/BTC', 'POWR/BTC', 'AMB/BTC', 'ZRX/BTC', 'BCH/BTC', 'EOS/BTC', 'XDC/BTC', 'ERG/BTC', 'IOTX/BTC', 'STC/BTC', 'DASH/BTC', 'AGIX/BTC', 'TOKO/BTC', 'INJ/BTC', 'ELF/BTC', 'QI/BTC', 'REVV/BTC', 'TRX/BTC', 'KRL/BTC', 'CHZ/BTC', 'CEUR/BTC', 'CHR/BTC', 'XHV/BTC', 'WNCG/BTC', 'KAI/BTC', 'HAI/BTC', 'CUSD/BTC', 'PLAY/BTC', 'CAPP/BTC', 'QTUM/BTC', 'STX/BTC', 'WAXP/BTC', 'DENT/BTC', 'UTK/BTC', 'SENSO/BTC', 'CV/BTC', 'ALGO/BTC', 'AR/BTC', 'COTI/BTC', 'RIF/BTC', 'SKL/BTC', 'CTSI/BTC', 'EWT/BTC', 'CKB/BTC', 'MTV/BTC', 'XYM/BTC', 'LINK/BTC', 'FET/BTC', 'ALICE/BTC', 'ATOM/BTC', 'NEAR/BTC', 'CRPT/BTC', 'SUKU/BTC', 'DOGE/BTC', 'EGLD/BTC', 'RSR/BTC', 'LRC/BTC', 'XTZ/BTC', 'FLUX/BTC', 'ABBC/BTC', 'ICP/BTC', 'SCLP/BTC', 'CWAR/BTC', 'FTT/BTC', 'ANKR/BTC', 'UQC/BTC', 'XDB/BTC', 'BUX/BTC', 'XPR/BTC', 'XMR/BTC', 'DFI/BTC', 'SOUL/BTC', 'FLOW/BTC', 'TLM/BTC', 'XYO/BTC', 'OUSD/BTC', 'XLM/BTC', 'WBTC/BTC', 'TEL/BTC', 'OCEAN/BTC', 'TRAC/BTC', 'STORJ/BTC', 'ENJ/BTC', 'VET/BTC', 'TRIAS/BTC', 'RUNE/BTC', 'ONE/BTC', 'ZEC/BTC', 'MATIC/BTC', 'LTC/BTC', 'RNDR/BTC', 'HTR/BTC', 'DOT/BTC', 'AION/BTC', 'UOS/BTC', 'XRP/BTC', 'ADA/BTC', 'AVAX/BTC', 'PYR/BTC', 'FTM/BTC', 'CRO/BTC', 'MANA/BTC', 'KCS/BTC', 'VRA/BTC', 'KDA/BTC', 'REQ/BTC', 'LUNA/BTC', 'ETH/BTC']\n"
     ]
    }
   ],
   "source": [
    "kucoin = ccxt.kucoin()\n",
    "kucoinmarkets = getmarkets(kucoin)\n",
    "\n",
    "print(kucoinmarkets)\n",
    "\n",
    "kucoinmarkets.sort()\n",
    "\n",
    "printtofile(createstring(kucoinmarkets), 'Kucoin'+baseCoin)\n"
   ]
  },
  {
   "cell_type": "code",
   "execution_count": 25,
   "metadata": {},
   "outputs": [
    {
     "name": "stdout",
     "output_type": "stream",
     "text": [
      "['BCC/BTC', 'HSR/BTC', 'MCO/BTC', 'STRAT/BTC', 'SNGLS/BTC', 'BQX/BTC', 'SALT/BTC', 'SUB/BTC', 'ENG/BTC', 'ICN/BTC', 'MOD/BTC', 'VEN/BTC', 'RCN/BTC', 'DLT/BTC', 'BCPT/BTC', 'ARN/BTC', 'GVT/BTC', 'CDT/BTC', 'POE/BTC', 'XZC/BTC', 'TNT/BTC', 'FUEL/BTC', 'DGD/BTC', 'PPT/BTC', 'CMT/BTC', 'LEND/BTC', 'TNB/BTC', 'OST/BTC', 'EDO/BTC', 'WINGS/BTC', 'LUN/BTC', 'TRIG/BTC', 'VIBE/BTC', 'INS/BTC', 'CHAT/BTC', 'VIA/BTC', 'AE/BTC', 'RPX/BTC', 'NCASH/BTC', 'POA/BTC', 'STORM/BTC', 'WPR/BTC', 'CLOAK/BTC', 'GNT/BTC', 'BCN/BTC', 'SKY/BTC', 'AGI/BTC', 'NPXS/BTC', 'KEY/BTC', 'MFT/BTC', 'DENT/BTC', 'HOT/BTC', 'PHX/BTC', 'HC/BTC', 'PAX/BTC', 'BSV/BTC', 'BTT/BTC', 'BTCB/BTC', 'ERD/BTC', 'WIN/BTC', 'COCOS/BTC', 'TROY/BTC', 'MBL/BTC', 'NBS/BTC', 'SUN/BTC', 'BOT/BTC', 'EASY/BTC', 'RENBTC/BTC', 'GNO/BTC', 'WNXM/BTC', 'FIDA/BTC', 'AUTO/BTC', 'MLN/BTC', 'BEAM/BTC', 'LAZIO/BTC', 'REP/BTC', 'AKRO/BTC', 'WING/BTC', 'QUICK/BTC', 'PERP/BTC', 'GRS/BTC', 'ALPACA/BTC', 'RGT/BTC', 'ONG/BTC', 'MTH/BTC', 'CTXC/BTC', 'RIF/BTC', 'GXS/BTC', 'BEL/BTC', 'TORN/BTC', 'FRONT/BTC', 'HARD/BTC', 'JST/BTC', 'TRIBE/BTC', 'YFII/BTC', 'UNFI/BTC', 'MDX/BTC', 'COS/BTC', 'PORTO/BTC', 'CTK/BTC', 'ALPHA/BTC', 'FIRO/BTC', 'TRB/BTC', 'FIS/BTC', 'BAL/BTC', 'FXS/BTC', 'FARM/BTC', 'OM/BTC', 'PNT/BTC', 'CFX/BTC', 'FUN/BTC', 'FORTH/BTC', 'FLM/BTC', 'TRU/BTC', 'AVA/BTC', 'SSV/BTC', 'GAS/BTC', 'PROM/BTC', 'AUCTION/BTC', 'BOND/BTC', 'PHA/BTC', 'BTG/BTC', 'YOYOW/BTC', 'GO/BTC', 'STRAX/BTC', 'BNT/BTC', 'CND/BTC', 'LIT/BTC', 'KLAY/BTC', 'VIDT/BTC', 'ARDR/BTC', 'RDN/BTC', 'PIVX/BTC', 'MDT/BTC', 'BADGER/BTC', 'QSP/BTC', 'BTS/BTC', 'KEEP/BTC', 'CLV/BTC', 'QLC/BTC', 'MIR/BTC', 'TOMO/BTC', 'BNX/BTC', 'BTCST/BTC', 'POLS/BTC', 'MDA/BTC', 'KAVA/BTC', 'DOCK/BTC', 'PHB/BTC', 'BAKE/BTC', 'TWT/BTC', 'ARPA/BTC', 'EVX/BTC', 'RARE/BTC', 'UTK/BTC', 'CHESS/BTC', 'DREP/BTC', 'C98/BTC', 'VIB/BTC', 'OAX/BTC', 'RAD/BTC', 'ANT/BTC', 'NAS/BTC', 'TKO/BTC', 'MTL/BTC', 'NAV/BTC', 'DIA/BTC', 'ADX/BTC', 'ORN/BTC', 'EPS/BTC', 'APPC/BTC', 'XEM/BTC', 'AERGO/BTC', 'STPT/BTC', 'PERL/BTC', 'LINA/BTC', 'NANO/BTC', 'IDEX/BTC', 'XVS/BTC', 'AMP/BTC', 'DODO/BTC', 'MOVR/BTC', 'VITE/BTC', 'DUSK/BTC', 'SRM/BTC', 'SNX/BTC', 'IRIS/BTC', 'NU/BTC', 'DEGO/BTC', 'BCD/BTC', 'EZ/BTC', 'WTC/BTC', 'AGIX/BTC', 'BZRX/BTC', 'LOOM/BTC', 'STX/BTC', 'INJ/BTC', 'SNM/BTC', 'GTO/BTC', 'BAND/BTC', 'RLC/BTC', 'SUPER/BTC', 'NEBL/BTC', 'YFI/BTC', 'QKC/BTC', 'STMX/BTC', 'KSM/BTC', 'UMA/BTC', 'KNC/BTC', 'AGLD/BTC', 'REEF/BTC', 'AST/BTC', 'NULS/BTC', 'CELO/BTC', 'NEO/BTC', 'MKR/BTC', 'FIO/BTC', 'WRX/BTC', 'NKN/BTC', 'DCR/BTC', 'BLZ/BTC', 'SNT/BTC', 'ARK/BTC', 'AUDIO/BTC', 'HNT/BTC', 'SCRT/BTC', 'LTO/BTC', 'WAVES/BTC', 'COMP/BTC', 'PLA/BTC', 'OCEAN/BTC', 'QNT/BTC', 'CTSI/BTC', 'LSK/BTC', 'ONT/BTC', 'ZRX/BTC', 'NXS/BTC', 'RVN/BTC', 'OXT/BTC', 'TCT/BTC', 'FLOW/BTC', 'PYR/BTC', 'SYS/BTC', 'YGG/BTC', 'AMB/BTC', 'RSR/BTC', 'POND/BTC', 'QI/BTC', 'TFUEL/BTC', 'WAN/BTC', 'DGB/BTC', 'MINA/BTC', 'SKL/BTC', 'ZIL/BTC', 'KMD/BTC', 'OMG/BTC', 'IOST/BTC', 'ELF/BTC', 'ATA/BTC', 'REN/BTC', 'FET/BTC', 'POWR/BTC', 'MBOX/BTC', 'DATA/BTC', 'VGX/BTC', 'OGN/BTC', 'RAMP/BTC', 'XTZ/BTC', 'BETA/BTC', 'XVG/BTC', 'DASH/BTC', 'CVC/BTC', 'ICX/BTC', 'UNI/BTC', 'MITH/BTC', 'SXP/BTC', 'NEAR/BTC', 'AR/BTC', 'EOS/BTC', 'ALGO/BTC', 'STEEM/BTC', 'FTT/BTC', 'IOTX/BTC', 'ZEN/BTC', 'POLY/BTC', 'ILV/BTC', 'JASMY/BTC', 'COTI/BTC', 'CELR/BTC', 'AAVE/BTC', 'SFP/BTC', 'IOTA/BTC', 'WAXP/BTC', 'HBAR/BTC', 'TVK/BTC', 'CHR/BTC', 'LPT/BTC', 'QTUM/BTC', 'AXS/BTC', 'ICP/BTC', 'ETC/BTC', 'CKB/BTC', 'TRX/BTC', 'XMR/BTC', 'GTC/BTC', '1INCH/BTC', 'ROSE/BTC', 'ONE/BTC', 'DNT/BTC', 'EGLD/BTC', 'DYDX/BTC', 'GRT/BTC', 'CAKE/BTC', 'GLM/BTC', 'BCH/BTC', 'THETA/BTC', 'SUSHI/BTC', 'RUNE/BTC', 'DAR/BTC', 'WBTC/BTC', 'VET/BTC', 'WABI/BTC', 'ATOM/BTC', 'CHZ/BTC', 'SC/BTC', 'ZEC/BTC', 'ENS/BTC', 'STORJ/BTC', 'XLM/BTC', 'ALICE/BTC', 'ANKR/BTC', 'CRV/BTC', 'ENJ/BTC', 'FIL/BTC', 'TLM/BTC', 'DOGE/BTC', 'LUNA/BTC', 'LTC/BTC', 'LRC/BTC', 'LINK/BTC', 'FTM/BTC', 'AVAX/BTC', 'HIVE/BTC', 'MATIC/BTC', 'BRD/BTC', 'BAT/BTC', 'XRP/BTC', 'AION/BTC', 'SOL/BTC', 'DOT/BTC', 'ADA/BTC', 'MANA/BTC', 'GALA/BTC', 'SAND/BTC', 'REQ/BTC', 'ETH/BTC']\n"
     ]
    }
   ],
   "source": [
    "binance = ccxt.binance()\n",
    "binancemarkets = getmarkets(binance)\n",
    "\n",
    "print(binancemarkets)\n",
    "\n",
    "binancemarkets.sort()\n",
    "\n",
    "printtofile(createstring(binancemarkets), 'Binance'+baseCoin)"
   ]
  }
 ],
 "metadata": {
  "interpreter": {
   "hash": "caf1c2fcf97217de91eafa76b907d50f9ea378f5ffbee7f571142d119bb6a771"
  },
  "kernelspec": {
   "display_name": "Python 3.8.3 64-bit ('base': conda)",
   "language": "python",
   "name": "python3"
  },
  "language_info": {
   "codemirror_mode": {
    "name": "ipython",
    "version": 3
   },
   "file_extension": ".py",
   "mimetype": "text/x-python",
   "name": "python",
   "nbconvert_exporter": "python",
   "pygments_lexer": "ipython3",
   "version": "3.8.3"
  },
  "orig_nbformat": 4
 },
 "nbformat": 4,
 "nbformat_minor": 2
}
